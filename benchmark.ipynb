{
 "cells": [
  {
   "cell_type": "code",
   "execution_count": 44,
   "id": "4a5db508",
   "metadata": {},
   "outputs": [],
   "source": [
    "from PIL import Image\n",
    "import time\n",
    "import numpy as np\n",
    "import pandas as pd\n",
    "import sys\n",
    "import os\n",
    "from tqdm import trange\n",
    "import matplotlib.pyplot as plt"
   ]
  },
  {
   "cell_type": "markdown",
   "id": "05c5f1b8",
   "metadata": {},
   "source": [
    "## Data"
   ]
  },
  {
   "cell_type": "code",
   "execution_count": 27,
   "id": "69cf8e16",
   "metadata": {},
   "outputs": [
    {
     "name": "stdout",
     "output_type": "stream",
     "text": [
      "<class 'datasets.dataset_dict.DatasetDict'>\n"
     ]
    }
   ],
   "source": [
    "from datasets import load_dataset\n",
    "\n",
    "# Login using e.g. `huggingface-cli login` to access this dataset\n",
    "ds = load_dataset(\"getomni-ai/ocr-benchmark\")\n",
    "\n",
    "print(type(ds))"
   ]
  },
  {
   "cell_type": "code",
   "execution_count": 28,
   "id": "8abef089",
   "metadata": {},
   "outputs": [],
   "source": [
    "data = ds['test']"
   ]
  },
  {
   "cell_type": "markdown",
   "id": "f0896faa",
   "metadata": {},
   "source": [
    "## Models"
   ]
  },
  {
   "cell_type": "code",
   "execution_count": 29,
   "id": "b7dd3222",
   "metadata": {},
   "outputs": [],
   "source": [
    "ocr_models = {} # {model_name: handler_func}"
   ]
  },
  {
   "cell_type": "markdown",
   "id": "c0490333",
   "metadata": {},
   "source": [
    "### apple-ocr"
   ]
  },
  {
   "cell_type": "markdown",
   "id": "5edafc93",
   "metadata": {},
   "source": [
    "Reformatted the output for benchmark consistency.\n",
    "```\n",
    "Before parsing:\n",
    "[\n",
    "  (\n",
    "    text: str,\n",
    "    confidence: float,\n",
    "    [bbox.origin.x: float, bbox.origin.y: float, bbox.size.width: float, bbox.size.height: float]\n",
    "  ), ...\n",
    "]\n",
    "Apple:\n",
    "bbox: The coordinates of the bounding box are normalized to the dimensions of the processed image, with the origin at the lower-left corner of the image.\n",
    "confidence: A normalized confidence score for the text recognition result.\n",
    "```"
   ]
  },
  {
   "cell_type": "code",
   "execution_count": 30,
   "id": "c1ae015c",
   "metadata": {},
   "outputs": [],
   "source": [
    "module_path = './models/apple-ocr/src'\n",
    "sys.path.append(os.path.abspath(module_path))\n",
    "from apple_ocr import ocr\n",
    "\n",
    "def apple_ocr_handler(image):\n",
    "  def parse_apple_ocr_result(data, w, h):\n",
    "    output = []\n",
    "    for instance in data:\n",
    "      bbox = instance[2]\n",
    "      origin_x_normalized = bbox[0]\n",
    "      origin_y_normalized = bbox[1]\n",
    "      width_normalized = bbox[2]\n",
    "      height_normalized = bbox[3]\n",
    "\n",
    "      x1 = origin_x_normalized * w\n",
    "      y1 = origin_y_normalized * h\n",
    "      x2 = x1 + (width_normalized * w)\n",
    "      y2 = y1 + (height_normalized * h)\n",
    "      x1, y1, x2, y2 = np.int32(round(x1)), np.int32(round(y1)), np.int32(round(x2)), np.int32(round(y2))\n",
    "\n",
    "      output.append({\n",
    "        'text': instance[0],\n",
    "        'confidence': instance[1],\n",
    "        'bbox': [\n",
    "            [x1, y2], # top left\n",
    "            [x2, y2], # top right\n",
    "            [x1, y1], # bottom left\n",
    "            [x2, y1]  # bottom right\n",
    "          ]\n",
    "      })\n",
    "    return output\n",
    "\n",
    "  start_time = time.time()\n",
    "  apple_ocr = ocr.OCR(image=image)\n",
    "  end_time = time.time()\n",
    "  setup_time = end_time - start_time\n",
    "\n",
    "  image_width, image_height = image.size\n",
    "\n",
    "  start_time = time.time()\n",
    "  df = apple_ocr.recognize()\n",
    "  end_time = time.time()\n",
    "  runtime = end_time - start_time\n",
    "\n",
    "  # Before parsing:\n",
    "  # [\n",
    "  #   (\n",
    "  #     text: str,\n",
    "  #     confidence: float,\n",
    "  #     [bbox.origin.x: float, bbox.origin.y: float, bbox.size.width: float, bbox.size.height: float]\n",
    "  #   ), ...\n",
    "  # ]\n",
    "  # Apple:\n",
    "  # bbox: The coordinates of the bounding box are normalized to the dimensions of the processed image, with the origin at the lower-left corner of the image.\n",
    "  # confidence: A normalized confidence score for the text recognition result.\n",
    "  out = apple_ocr.data\n",
    "  return parse_apple_ocr_result(out, image_width, image_height), runtime, setup_time\n",
    "\n",
    "ocr_models['apple-ocr'] = apple_ocr_handler"
   ]
  },
  {
   "cell_type": "markdown",
   "id": "c792145f",
   "metadata": {},
   "source": [
    "### easy-ocr"
   ]
  },
  {
   "cell_type": "code",
   "execution_count": 31,
   "id": "dec2dc19",
   "metadata": {},
   "outputs": [],
   "source": [
    "import easyocr\n",
    "def easyocr_handler(image):\n",
    "  def parse_easyocr_result(data):\n",
    "    output = []\n",
    "    for instance in data:\n",
    "      output.append(\n",
    "        {\n",
    "          'text': instance[1],\n",
    "          'confidence': instance[2],\n",
    "          'bbox': instance[0]\n",
    "        }\n",
    "      )\n",
    "    return output\n",
    "\n",
    "  image = np.array(image)\n",
    "\n",
    "  start_time = time.time()\n",
    "  reader = easyocr.Reader(['en'])  # specify language\n",
    "  end_time = time.time()\n",
    "  setup_time = end_time - start_time\n",
    "  # Before parsing:\n",
    "  # [\n",
    "  #   (\n",
    "  #     [[x1, y1], [x2, y2], [x3, y3], [x4, y4]],\n",
    "  #     text: str, \n",
    "  #     confidence: np.float64\n",
    "  #   ), ...\n",
    "  # ]\n",
    "  start_time = time.time()\n",
    "  results = reader.readtext(image)\n",
    "  end_time = time.time()\n",
    "  runtime = end_time - start_time\n",
    "  return parse_easyocr_result(results), runtime, setup_time\n",
    "\n",
    "ocr_models['easy-ocr'] = easyocr_handler"
   ]
  },
  {
   "cell_type": "markdown",
   "id": "3b0c1b14",
   "metadata": {},
   "source": [
    "### tesseract-ocr"
   ]
  },
  {
   "cell_type": "markdown",
   "id": "4f53adaf",
   "metadata": {},
   "source": [
    "Note: On MacOS, the `pytesseract` python package is just a wrapper. Need to also `brew install tesseract`."
   ]
  },
  {
   "cell_type": "code",
   "execution_count": null,
   "id": "66e62cf1",
   "metadata": {},
   "outputs": [],
   "source": [
    "import pytesseract\n",
    "def tesseract_ocr_handler(image):\n",
    "  start_time = time.time()\n",
    "  out = pd.DataFrame(pytesseract.image_to_data(image, output_type=pytesseract.Output.DICT))\n",
    "  # out = pytesseract.image_to_string(image)\n",
    "  end_time = time.time()\n",
    "  runtime = end_time - start_time\n",
    "\n",
    "  return out, runtime, 'N/A'\n",
    "\n",
    "ocr_models['tesseract-ocr'] = tesseract_ocr_handler\n"
   ]
  },
  {
   "cell_type": "code",
   "execution_count": 33,
   "id": "68ecf961",
   "metadata": {},
   "outputs": [],
   "source": [
    "# img = data[99]['image']\n",
    "# tesseract_ocr_handler(img)"
   ]
  },
  {
   "cell_type": "markdown",
   "id": "bb0936ac",
   "metadata": {},
   "source": [
    "## Run"
   ]
  },
  {
   "cell_type": "markdown",
   "id": "39635435",
   "metadata": {},
   "source": [
    "Note this is run a with single image, different models may have varying performances with batched processing."
   ]
  },
  {
   "cell_type": "code",
   "execution_count": 36,
   "id": "e6e8cd38",
   "metadata": {},
   "outputs": [
    {
     "name": "stdout",
     "output_type": "stream",
     "text": [
      "=========== apple-ocr ===========\n",
      "Setup Time: 1.7881393432617188e-05\n",
      "Runtime: 0.6121931076049805\n",
      "---- Output ----\n",
      "0            Staff Shift Schedule\n",
      "1    Fort Bradlv Medical Center -\n",
      "2      Week of September 27, 2025\n",
      "3                        Employee\n",
      "4                Courtney Lebsack\n",
      "5                     Linda Lesch\n",
      "6                   Roberto Stehr\n",
      "7                Horace Gleichner\n",
      "8                    Stella Fadel\n",
      "9                Jared Leannon II\n",
      "Name: text, dtype: object\n",
      "\n",
      "=========== easy-ocr ===========\n",
      "Setup Time: 2.2657580375671387\n",
      "Runtime: 5.501737833023071\n",
      "---- Output ----\n",
      "0          Staff Shift Schedule\n",
      "1                          Fort\n",
      "2         Bradly Medical Center\n",
      "3    Week of September 27, 2025\n",
      "4                      Employee\n",
      "5                            ID\n",
      "6                    Department\n",
      "7                        Sat 27\n",
      "8                        Sun 28\n",
      "9                        Mon 29\n",
      "Name: text, dtype: object\n",
      "\n",
      "=========== tesseract-ocr ===========\n",
      "Setup Time: N/A\n",
      "Runtime: 2.8764097690582275\n",
      "---- Output ----\n",
      "0            \n",
      "1            \n",
      "2            \n",
      "3            \n",
      "4       Staff\n",
      "5       Shift\n",
      "6    Schedule\n",
      "7            \n",
      "8            \n",
      "9            \n",
      "Name: text, dtype: object\n",
      "\n"
     ]
    }
   ],
   "source": [
    "img = data[99]['image'] # Just test with one image for now\n",
    "\n",
    "for name, handler in ocr_models.items():\n",
    "  print(f'=========== {name} ===========')\n",
    "  out, runtime, setup_time = handler(img)\n",
    "  df = pd.DataFrame(out)\n",
    "  print(f'Setup Time: {setup_time}\\nRuntime: {runtime}')\n",
    "  print(\"---- Output ----\")\n",
    "  print(df['text'].head(10))\n",
    "  print(f'')"
   ]
  },
  {
   "cell_type": "markdown",
   "id": "48e498e6",
   "metadata": {},
   "source": [
    "Testing by averaging runtime across multiple images."
   ]
  },
  {
   "cell_type": "code",
   "execution_count": 49,
   "id": "9a2b085f",
   "metadata": {},
   "outputs": [
    {
     "name": "stderr",
     "output_type": "stream",
     "text": [
      "img: 100%|██████████| 100/100 [19:01<00:00, 11.42s/it]\n"
     ]
    }
   ],
   "source": [
    "# Runtime comparisons\n",
    "n = 100\n",
    "\n",
    "runtimes = {name: [] for name, _ in ocr_models.items()}\n",
    "\n",
    "for i in trange(n, desc='img'):\n",
    "  img = data[n]['image']\n",
    "\n",
    "  for name, handler in ocr_models.items():\n",
    "    out, runtime, setup_time = handler(img)\n",
    "    if not isinstance(setup_time, float):\n",
    "      setup_time = 0\n",
    "    runtimes[name].append(runtime + setup_time)"
   ]
  },
  {
   "cell_type": "code",
   "execution_count": 50,
   "id": "95af6e93",
   "metadata": {},
   "outputs": [
    {
     "name": "stdout",
     "output_type": "stream",
     "text": [
      "Average runtimes across 100 images\n",
      "--- apple-ocr:\n",
      "Average time: 0.6994973134994507\n",
      "--- easy-ocr:\n",
      "Average time: 7.598770220279693\n",
      "--- tesseract-ocr:\n",
      "Average time: 3.0903076791763304\n"
     ]
    }
   ],
   "source": [
    "# Averages\n",
    "print(f'Average runtimes across {n} images')\n",
    "for name, lst in runtimes.items():\n",
    "  times = np.array(lst)\n",
    "  print(f'--- {name}:')\n",
    "  print(f'Average time: {np.mean(times)}')"
   ]
  },
  {
   "cell_type": "code",
   "execution_count": 51,
   "id": "f5893789",
   "metadata": {},
   "outputs": [
    {
     "data": {
      "image/png": "[encoded data removed]",
      "text/plain": [
       "<Figure size 800x600 with 1 Axes>"
      ]
     },
     "metadata": {},
     "output_type": "display_data"
    }
   ],
   "source": [
    "# Plot\n",
    "plt.figure(figsize=(8, 6))\n",
    "\n",
    "for i, (key, values) in enumerate(runtimes.items()):\n",
    "    plt.scatter([key] * len(values), values, label=key, alpha=0.6)\n",
    "\n",
    "plt.xlabel('Models')\n",
    "plt.ylabel('Runtimes (s)')\n",
    "plt.title('Range of Runtimes Across OCR Models')\n",
    "\n",
    "plt.legend(title=\"Models\")\n",
    "plt.grid(True)\n",
    "\n",
    "plt.show()"
   ]
  }
 ],
 "metadata": {
  "kernelspec": {
   "display_name": "Python 3",
   "language": "python",
   "name": "python3"
  },
  "language_info": {
   "codemirror_mode": {
    "name": "ipython",
    "version": 3
   },
   "file_extension": ".py",
   "mimetype": "text/x-python",
   "name": "python",
   "nbconvert_exporter": "python",
   "pygments_lexer": "ipython3",
   "version": "3.13.3"
  }
 },
 "nbformat": 4,
 "nbformat_minor": 5
}
