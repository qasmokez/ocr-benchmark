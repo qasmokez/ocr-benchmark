{
 "cells": [
  {
   "cell_type": "code",
   "execution_count": 1,
   "id": "4a5db508",
   "metadata": {},
   "outputs": [],
   "source": [
    "from PIL import Image\n",
    "import time\n",
    "import numpy as np\n",
    "import pandas as pd\n",
    "import sys\n",
    "import os"
   ]
  },
  {
   "cell_type": "markdown",
   "id": "05c5f1b8",
   "metadata": {},
   "source": [
    "## Data"
   ]
  },
  {
   "cell_type": "code",
   "execution_count": 2,
   "id": "69cf8e16",
   "metadata": {},
   "outputs": [
    {
     "name": "stderr",
     "output_type": "stream",
     "text": [
      "/Library/Frameworks/Python.framework/Versions/3.13/lib/python3.13/site-packages/tqdm/auto.py:21: TqdmWarning: IProgress not found. Please update jupyter and ipywidgets. See https://ipywidgets.readthedocs.io/en/stable/user_install.html\n",
      "  from .autonotebook import tqdm as notebook_tqdm\n"
     ]
    },
    {
     "name": "stdout",
     "output_type": "stream",
     "text": [
      "<class 'datasets.dataset_dict.DatasetDict'>\n"
     ]
    }
   ],
   "source": [
    "from datasets import load_dataset\n",
    "\n",
    "# Login using e.g. `huggingface-cli login` to access this dataset\n",
    "ds = load_dataset(\"getomni-ai/ocr-benchmark\")\n",
    "\n",
    "print(type(ds))"
   ]
  },
  {
   "cell_type": "code",
   "execution_count": 3,
   "id": "8abef089",
   "metadata": {},
   "outputs": [],
   "source": [
    "data = ds['test']"
   ]
  },
  {
   "cell_type": "markdown",
   "id": "f0896faa",
   "metadata": {},
   "source": [
    "## Models"
   ]
  },
  {
   "cell_type": "code",
   "execution_count": 4,
   "id": "b7dd3222",
   "metadata": {},
   "outputs": [],
   "source": [
    "ocr_models = {} # {model_name: handler_func}"
   ]
  },
  {
   "cell_type": "markdown",
   "id": "c0490333",
   "metadata": {},
   "source": [
    "### apple-ocr"
   ]
  },
  {
   "cell_type": "markdown",
   "id": "5edafc93",
   "metadata": {},
   "source": [
    "Reformatted the output for benchmark consistency.\n",
    "```\n",
    "Before parsing:\n",
    "[\n",
    "  (\n",
    "    text: str,\n",
    "    confidence: float,\n",
    "    [bbox.origin.x: float, bbox.origin.y: float, bbox.size.width: float, bbox.size.height: float]\n",
    "  ), ...\n",
    "]\n",
    "Apple:\n",
    "bbox: The coordinates of the bounding box are normalized to the dimensions of the processed image, with the origin at the lower-left corner of the image.\n",
    "confidence: A normalized confidence score for the text recognition result.\n",
    "```"
   ]
  },
  {
   "cell_type": "code",
   "execution_count": null,
   "id": "c1ae015c",
   "metadata": {},
   "outputs": [],
   "source": [
    "module_path = './models/apple-ocr/src'\n",
    "sys.path.append(os.path.abspath(module_path))\n",
    "from apple_ocr import ocr\n",
    "\n",
    "def apple_ocr_handler(image):\n",
    "  def parse_apple_ocr_result(data, w, h):\n",
    "    output = []\n",
    "    for instance in data:\n",
    "      bbox = instance[2]\n",
    "      origin_x_normalized = bbox[0]\n",
    "      origin_y_normalized = bbox[1]\n",
    "      width_normalized = bbox[2]\n",
    "      height_normalized = bbox[3]\n",
    "\n",
    "      x1 = origin_x_normalized * w\n",
    "      y1 = origin_y_normalized * h\n",
    "      x2 = x1 + (width_normalized * w)\n",
    "      y2 = y1 + (height_normalized * h)\n",
    "      x1, y1, x2, y2 = np.int32(round(x1)), np.int32(round(y1)), np.int32(round(x2)), np.int32(round(y2))\n",
    "\n",
    "      output.append({\n",
    "        'text': instance[0],\n",
    "        'confidence': instance[1],\n",
    "        'bbox': [\n",
    "            [x1, y2], # top left\n",
    "            [x2, y2], # top right\n",
    "            [x1, y1], # bottom left\n",
    "            [x2, y1]  # bottom right\n",
    "          ]\n",
    "      })\n",
    "    return output\n",
    "\n",
    "  start_time = time.time()\n",
    "  apple_ocr = ocr.OCR(image=image)\n",
    "  end_time = time.time()\n",
    "  setup_time = end_time - start_time\n",
    "\n",
    "  image_width, image_height = image.size\n",
    "\n",
    "  start_time = time.time()\n",
    "  df = apple_ocr.recognize()\n",
    "  end_time = time.time()\n",
    "  runtime = end_time - start_time\n",
    "\n",
    "  # Before parsing:\n",
    "  # [\n",
    "  #   (\n",
    "  #     text: str,\n",
    "  #     confidence: float,\n",
    "  #     [bbox.origin.x: float, bbox.origin.y: float, bbox.size.width: float, bbox.size.height: float]\n",
    "  #   ), ...\n",
    "  # ]\n",
    "  # Apple:\n",
    "  # bbox: The coordinates of the bounding box are normalized to the dimensions of the processed image, with the origin at the lower-left corner of the image.\n",
    "  # confidence: A normalized confidence score for the text recognition result.\n",
    "  out = apple_ocr.data\n",
    "  return parse_apple_ocr_result(out, image_width, image_height), runtime, setup_time\n",
    "\n",
    "ocr_models['apple-ocr'] = apple_ocr_handler"
   ]
  },
  {
   "cell_type": "markdown",
   "id": "c792145f",
   "metadata": {},
   "source": [
    "### easy-ocr"
   ]
  },
  {
   "cell_type": "code",
   "execution_count": 6,
   "id": "dec2dc19",
   "metadata": {},
   "outputs": [],
   "source": [
    "import easyocr\n",
    "def easyocr_handler(image):\n",
    "  def parse_easyocr_result(data):\n",
    "    output = []\n",
    "    for instance in data:\n",
    "      output.append(\n",
    "        {\n",
    "          'text': instance[1],\n",
    "          'confidence': instance[2],\n",
    "          'bbox': instance[0]\n",
    "        }\n",
    "      )\n",
    "    return output\n",
    "\n",
    "  image = np.array(image)\n",
    "\n",
    "  start_time = time.time()\n",
    "  reader = easyocr.Reader(['en'])  # specify language\n",
    "  end_time = time.time()\n",
    "  setup_time = end_time - start_time\n",
    "  # Before parsing:\n",
    "  # [\n",
    "  #   (\n",
    "  #     [[x1, y1], [x2, y2], [x3, y3], [x4, y4]],\n",
    "  #     text: str, \n",
    "  #     confidence: np.float64\n",
    "  #   ), ...\n",
    "  # ]\n",
    "  start_time = time.time()\n",
    "  results = reader.readtext(image)\n",
    "  end_time = time.time()\n",
    "  runtime = end_time - start_time\n",
    "  return parse_easyocr_result(results), runtime, setup_time\n",
    "\n",
    "ocr_models['easy-ocr'] = easyocr_handler"
   ]
  },
  {
   "cell_type": "markdown",
   "id": "3b0c1b14",
   "metadata": {},
   "source": [
    "### tesseract-ocr"
   ]
  },
  {
   "cell_type": "markdown",
   "id": "4f53adaf",
   "metadata": {},
   "source": [
    "Note: On MacOS, the `pytesseract` python package is just a wrapper. Need to also `brew install tesseract`."
   ]
  },
  {
   "cell_type": "code",
   "execution_count": 14,
   "id": "66e62cf1",
   "metadata": {},
   "outputs": [],
   "source": [
    "import pytesseract\n",
    "def tesseract_ocr_handler(image):\n",
    "  # out = pd.DataFrame(pytesseract.image_to_data(image, output_type=pytesseract.Output.DICT))\n",
    "  out = pytesseract.image_to_string(image)\n",
    "  return out"
   ]
  },
  {
   "cell_type": "code",
   "execution_count": 15,
   "id": "68ecf961",
   "metadata": {},
   "outputs": [
    {
     "data": {
      "text/plain": [
       "'Staff Shift Schedule\\n\\nFort Bradly Medical Center -\\nWeek of September 27, 2025\\n\\nEmployee ID\\nCourtney Lebsack DZF5Ro\\nLinda Lesch CUE1PU\\nRoberto Stehr ZPNPLZ\\nHorace Gleichner XIQ2UM\\nStella Fadel 5PP4T6\\nJared Leannon II 9GK3TW\\nDonnie Simonis II IMPSCT\\nMindy Kunze F7UIXW\\nMs. Terri Ziemann VGNNYO\\nTabitha Haag GJCWYL\\nTina Borer LWO4MG\\nDarin Hyatt PA1WIL\\nBrittany Goyette ZZRYIL\\nVictor Beatty QGWTXC\\nJeremy Labadie CFFSHV\\nMs. Gina Bahringer H4RTIU\\nDwayne Runolfsson MF5DOB\\nLola Mills ESIY7C\\nBrett Considine YLZBTD\\nSean Boyle YSAYPJ\\n\\nDepartment\\n\\nSurgery\\n\\nICU\\n\\nICU\\n\\nEmergency\\n\\nPediatrics\\n\\nRadiology\\n\\nNeurology\\n\\nRadiology\\n\\nRadiology\\n\\nCardiology\\n\\nCardiology\\n\\nEmergency\\n\\nRadiology\\n\\nSurgery\\n\\nCardiology\\n\\nEmergency\\n\\nNeurology\\n\\nEmergency\\n\\nOncology\\n\\nOncology\\n\\nSat 27 Sun 28\\n. Afternoon.\\nLeave Sick Leave\\n15:00-23:00\\nAfternoon\\n15:00-23:00\\nAfternoon Morning\\n15:00-23:00 07:00-15:00\\nAfternoon\\nLeave Personal\\n15:00-23:00\\nMorning\\n07:00-15:00\\nLeave Sick Leave\\nNight\\n23:00-07:00\\nMorning\\n07:00-15:00\\nMornin, i\\n8 Leave Vacation\\n07:00-15:00\\nAfternoon\\n15:00-23:00\\nMorning\\n07:00-15:00\\nLeave Sick Leave\\nMorning\\n\\n07:00-15:00\\n\\nMon 29\\n\\nLeave Sick Leave\\n\\nMorning\\n07:00-15:00\\n\\nLeave Sick Leave\\n\\nNight\\n23:00-07:00\\n\\nAfternoon\\n15:00-23:00\\n\\nLeave Sick Leave\\n\\nNight\\n23:00-07:00\\n\\nNight\\n23:00-07:00\\n\\nLeave Training\\n\\nMorning\\n07:00-15:00\\n\\nTue 30 Wed1\\nMorning\\n07:00-15:00\\nLeave Vacation\\nLeave Personal\\nAfternoon Morning\\n15:00-23:00 07:00-15:00\\nNight Afternoon\\n23:00-07:00 15:00-23:00\\nNight\\n23:00-07:00\\nAfternoon Afternoon\\n15:00-23:00 15:00-23:00\\nMorning\\n07:00-15:00\\nLeave Training\\nLeave Sick Leave\\nNight\\n23:00-07:00\\n\\nLeave Sick Leave\\n\\nMorning\\n07:00-15:00\\n\\nLeave Vacation\\n\\nThu 2\\n\\nAfternoon\\n15:00-23:00\\n\\nMorning\\n07:00-15:00\\n\\nLeave Personal\\n\\nMorning\\n07:00-15:00\\n\\nAfternoon\\n15:00-23:00\\n\\nAfternoon\\n15:00-23:00\\n\\nNight\\n23:00-07:00\\n\\nNight\\n23:00-07:00\\n\\nAfternoon\\n15:00-23:00\\n\\nAfternoon\\n15:00-23:00\\n\\nLeave Training\\n\\nMorning\\n07:00-15:00\\n\\nAfternoon\\n15:00-23:00\\n\\nFri3\\n\\nLeave Personal\\n\\nAfternoon\\n15:00-23:00\\n\\nLeave Training\\n\\nMorning\\n07:00-15:00\\n\\nAfternoon\\n15:00-23:00\\n\\nNight\\n23:00-07:00\\n\\nAfternoon\\n15:00-23:00\\n\\nLeave Training\\n\\nMorning\\n07:00-15:00\\n\\nAfternoon\\n15:00-23:00\\n\\nMorning\\n07:00-15:00\\n'"
      ]
     },
     "execution_count": 15,
     "metadata": {},
     "output_type": "execute_result"
    }
   ],
   "source": [
    "img = data[99]['image']\n",
    "tesseract_ocr_handler(img)"
   ]
  },
  {
   "cell_type": "markdown",
   "id": "bb0936ac",
   "metadata": {},
   "source": [
    "## Run"
   ]
  },
  {
   "cell_type": "markdown",
   "id": "39635435",
   "metadata": {},
   "source": [
    "Note this is run a with single image, different models may have varying performances with batched processing."
   ]
  },
  {
   "cell_type": "code",
   "execution_count": 16,
   "id": "e6e8cd38",
   "metadata": {},
   "outputs": [
    {
     "name": "stdout",
     "output_type": "stream",
     "text": [
      "=========== apple-ocr ===========\n",
      "Setup Time: 3.314018249511719e-05\n",
      "Runtime: 0.6097888946533203\n",
      "---- Output ----\n",
      "0            Staff Shift Schedule\n",
      "1    Fort Bradlv Medical Center -\n",
      "2      Week of September 27, 2025\n",
      "3                        Employee\n",
      "4                Courtney Lebsack\n",
      "5                     Linda Lesch\n",
      "6                   Roberto Stehr\n",
      "7                Horace Gleichner\n",
      "8                    Stella Fadel\n",
      "9                Jared Leannon II\n",
      "Name: text, dtype: object\n",
      "\n",
      "=========== easy-ocr ===========\n",
      "Setup Time: 2.3394429683685303\n",
      "Runtime: 6.487469911575317\n",
      "---- Output ----\n",
      "0          Staff Shift Schedule\n",
      "1                          Fort\n",
      "2         Bradly Medical Center\n",
      "3    Week of September 27, 2025\n",
      "4                      Employee\n",
      "5                            ID\n",
      "6                    Department\n",
      "7                        Sat 27\n",
      "8                        Sun 28\n",
      "9                        Mon 29\n",
      "Name: text, dtype: object\n",
      "\n"
     ]
    }
   ],
   "source": [
    "img = data[99]['image']\n",
    "for name, handler in ocr_models.items():\n",
    "  print(f'=========== {name} ===========')\n",
    "  out, runtime, setup_time = handler(img)\n",
    "  df = pd.DataFrame(out)\n",
    "  print(f'Setup Time: {setup_time}\\nRuntime: {runtime}')\n",
    "  print(\"---- Output ----\")\n",
    "  print(df['text'].head(10))\n",
    "  print(f'')"
   ]
  },
  {
   "cell_type": "code",
   "execution_count": null,
   "id": "9a2b085f",
   "metadata": {},
   "outputs": [],
   "source": []
  }
 ],
 "metadata": {
  "kernelspec": {
   "display_name": "Python 3",
   "language": "python",
   "name": "python3"
  },
  "language_info": {
   "codemirror_mode": {
    "name": "ipython",
    "version": 3
   },
   "file_extension": ".py",
   "mimetype": "text/x-python",
   "name": "python",
   "nbconvert_exporter": "python",
   "pygments_lexer": "ipython3",
   "version": "3.13.3"
  }
 },
 "nbformat": 4,
 "nbformat_minor": 5
}
